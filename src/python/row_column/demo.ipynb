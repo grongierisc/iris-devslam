{
 "cells": [
  {
   "cell_type": "markdown",
   "metadata": {},
   "source": [
    "# Row vs Column Storage"
   ]
  },
  {
   "cell_type": "code",
   "execution_count": 27,
   "metadata": {},
   "outputs": [],
   "source": [
    "import iris\n",
    "import time\n",
    "import csv\n",
    "import random\n",
    "import datetime\n",
    "import string\n",
    "import numpy as np"
   ]
  },
  {
   "cell_type": "markdown",
   "metadata": {},
   "source": [
    "## Helper Functions"
   ]
  },
  {
   "cell_type": "code",
   "execution_count": 28,
   "metadata": {},
   "outputs": [],
   "source": [
    "# benchmark an sql query\n",
    "def benchmark_sql_query(sql_query):\n",
    "    start = time.time()\n",
    "    iris.sql.exec(sql_query)\n",
    "    end = time.time()\n",
    "    print(f\"{sql_query} in {end - start}\")\n",
    "\n",
    "# print result of sql query\n",
    "def print_sql_query(sql_query):\n",
    "    print(f\"{sql_query} :\")\n",
    "    rs = iris.sql.exec(sql_query)\n",
    "    for row in rs:\n",
    "        print(row)\n",
    "\n",
    "\n",
    "# create n fake data\n",
    "def create_n_fake_data(n):\n",
    "\n",
    "\n",
    "    def random_string(string_length=10):\n",
    "        letters = string.ascii_lowercase\n",
    "        return ''.join(random.choice(letters) for i in range(string_length))\n",
    "\n",
    "    def random_date(start, end):\n",
    "        return start + datetime.timedelta(\n",
    "            # Get a random amount of seconds between `start` and `end`\n",
    "            seconds=random.randint(0, int((end - start).total_seconds())),\n",
    "        )\n",
    "\n",
    "    def random_amount():\n",
    "        return np.random.uniform(0, 10000)\n",
    "\n",
    "    def random_type():\n",
    "        return random.choice(['credit', 'debit'])\n",
    "\n",
    "    def random_account_number():\n",
    "        return random.randint(1000000, 9999999)\n",
    "\n",
    "    data = []\n",
    "    # header\n",
    "    data.append(['AccountNumber', 'TransactionDate', 'Description', 'Amount', 'Type'])\n",
    "    for i in range(n):\n",
    "        data.append([\n",
    "            random_account_number(),\n",
    "            random_date(datetime.datetime(2018, 1, 1), datetime.datetime(2019, 1, 1)),\n",
    "            random_string(10),\n",
    "            random_amount(),\n",
    "            random_type()\n",
    "        ])\n",
    "    return data\n"
   ]
  },
  {
   "cell_type": "markdown",
   "metadata": {},
   "source": [
    "## List of tables"
   ]
  },
  {
   "cell_type": "code",
   "execution_count": 29,
   "metadata": {},
   "outputs": [],
   "source": [
    "list_tables = [\"Demo.BankTransactionRow\", \"Demo.BankTransactionColumn\",\"Demo.BankTransactionMix\" ]"
   ]
  },
  {
   "cell_type": "code",
   "execution_count": 30,
   "metadata": {},
   "outputs": [
    {
     "name": "stdout",
     "output_type": "stream",
     "text": [
      "init drop table if exists\n",
      "DROP TABLE IF EXISTS Demo.BankTransactionRow in 0.09867167472839355\n",
      "DROP TABLE IF EXISTS Demo.BankTransactionColumn in 0.04582977294921875\n",
      "DROP TABLE IF EXISTS Demo.BankTransactionMix in 0.04502701759338379\n"
     ]
    }
   ],
   "source": [
    "# init drop table if exists\n",
    "print(\"init drop table if exists\")\n",
    "for table in list_tables:\n",
    "    benchmark_sql_query(\"DROP TABLE IF EXISTS %s\" % table)"
   ]
  },
  {
   "cell_type": "code",
   "execution_count": 31,
   "metadata": {},
   "outputs": [],
   "source": [
    "# create tables\n",
    "# row storage\n",
    "sql_row = \"\"\"\n",
    "CREATE TABLE Demo.BankTransactionRow (\n",
    "  AccountNumber INTEGER,\n",
    "  TransactionDate DATE,\n",
    "  Description VARCHAR(100),\n",
    "  Amount NUMERIC(10,2),\n",
    "  Type VARCHAR(10)\n",
    ")\n",
    "\"\"\""
   ]
  },
  {
   "cell_type": "code",
   "execution_count": 32,
   "metadata": {},
   "outputs": [],
   "source": [
    "# column storage\n",
    "sql_column = \"\"\"\n",
    "CREATE TABLE Demo.BankTransactionColumn (\n",
    "  AccountNumber INTEGER,\n",
    "  TransactionDate DATE,\n",
    "  Description VARCHAR(100),\n",
    "  Amount NUMERIC(10,2),\n",
    "  Type VARCHAR(10)\n",
    ")\n",
    "WITH STORAGETYPE = COLUMNAR\n",
    "\"\"\""
   ]
  },
  {
   "cell_type": "code",
   "execution_count": 33,
   "metadata": {},
   "outputs": [],
   "source": [
    "# mix storage\n",
    "sql_mix = \"\"\"\n",
    "CREATE TABLE Demo.BankTransactionMix (\n",
    "  AccountNumber INTEGER,\n",
    "  TransactionDate DATE,\n",
    "  Description VARCHAR(100),\n",
    "  Amount NUMERIC(10,2) WITH STORAGETYPE = COLUMNAR,\n",
    "  Type VARCHAR(10)\n",
    ")\n",
    "\"\"\""
   ]
  },
  {
   "cell_type": "code",
   "execution_count": 34,
   "metadata": {},
   "outputs": [
    {
     "name": "stdout",
     "output_type": "stream",
     "text": [
      "create tables\n",
      "\n",
      "CREATE TABLE Demo.BankTransactionRow (\n",
      "  AccountNumber INTEGER,\n",
      "  TransactionDate DATE,\n",
      "  Description VARCHAR(100),\n",
      "  Amount NUMERIC(10,2),\n",
      "  Type VARCHAR(10)\n",
      ")\n",
      " in 0.20645761489868164\n",
      "\n",
      "CREATE TABLE Demo.BankTransactionColumn (\n",
      "  AccountNumber INTEGER,\n",
      "  TransactionDate DATE,\n",
      "  Description VARCHAR(100),\n",
      "  Amount NUMERIC(10,2),\n",
      "  Type VARCHAR(10)\n",
      ")\n",
      "WITH STORAGETYPE = COLUMNAR\n",
      " in 0.20578598976135254\n",
      "\n",
      "CREATE TABLE Demo.BankTransactionMix (\n",
      "  AccountNumber INTEGER,\n",
      "  TransactionDate DATE,\n",
      "  Description VARCHAR(100),\n",
      "  Amount NUMERIC(10,2) WITH STORAGETYPE = COLUMNAR,\n",
      "  Type VARCHAR(10)\n",
      ")\n",
      " in 0.18250083923339844\n"
     ]
    }
   ],
   "source": [
    "print(\"create tables\")\n",
    "sqls = [sql_row, sql_column, sql_mix]\n",
    "for sql in sqls:\n",
    "    benchmark_sql_query(sql)"
   ]
  },
  {
   "cell_type": "code",
   "execution_count": 35,
   "metadata": {},
   "outputs": [
    {
     "name": "stdout",
     "output_type": "stream",
     "text": [
      "create data\n",
      "load data\n",
      "LOAD BULK %NOJOURN DATA FROM FILE '/opt/irisapp/data/data.csv' INTO Demo.BankTransactionRow in 3.047476291656494\n",
      "LOAD BULK %NOJOURN DATA FROM FILE '/opt/irisapp/data/data.csv' INTO Demo.BankTransactionColumn in 44.84366583824158\n",
      "LOAD BULK %NOJOURN DATA FROM FILE '/opt/irisapp/data/data.csv' INTO Demo.BankTransactionMix in 34.497655153274536\n",
      "tune table\n",
      "TUNE TABLE Demo.BankTransactionRow in 0.5842890739440918\n",
      "TUNE TABLE Demo.BankTransactionColumn in 0.7010197639465332\n",
      "TUNE TABLE Demo.BankTransactionMix in 0.5431900024414062\n"
     ]
    }
   ],
   "source": [
    "print(\"create data\")\n",
    "number_fake_data = 500000\n",
    "data = create_n_fake_data(number_fake_data)\n",
    "with open('data.csv', 'w') as f:\n",
    "    writer = csv.writer(f)\n",
    "    writer.writerows(data)\n",
    "\n",
    "print(\"load data\")\n",
    "for table in list_tables:\n",
    "    benchmark_sql_query(f\"LOAD BULK %NOJOURN DATA FROM FILE '/opt/irisapp/data/data.csv' INTO {table}\")\n",
    "\n",
    "# tune table\n",
    "print(\"tune table\")\n",
    "for table in list_tables:\n",
    "    benchmark_sql_query(\"TUNE TABLE %s\" % table)"
   ]
  },
  {
   "cell_type": "code",
   "execution_count": 89,
   "metadata": {},
   "outputs": [
    {
     "name": "stdout",
     "output_type": "stream",
     "text": [
      "CREATE BITMAP INDEX TypeIndex ON Demo.BankTransactionRow(AccountNumber) in 2.4024267196655273\n",
      "CREATE BITMAP INDEX TypeIndex ON Demo.BankTransactionColumn(AccountNumber) in 7.740201473236084\n",
      "CREATE BITMAP INDEX TypeIndex ON Demo.BankTransactionMix(AccountNumber) in 1.6915180683135986\n"
     ]
    },
    {
     "ename": "SQLError",
     "evalue": "Class 'Demo.BankTransactionIndex' already has index named 'AmountIndex'.",
     "output_type": "error",
     "traceback": [
      "\u001b[0;31m---------------------------------------------------------------------------\u001b[0m",
      "\u001b[0;31mSQLError\u001b[0m                                  Traceback (most recent call last)",
      "Cell \u001b[0;32mIn [89], line 4\u001b[0m\n\u001b[1;32m      1\u001b[0m \u001b[38;5;28;01mfor\u001b[39;00m table \u001b[38;5;129;01min\u001b[39;00m list_tables:\n\u001b[1;32m      2\u001b[0m     benchmark_sql_query(\u001b[38;5;124mf\u001b[39m\u001b[38;5;124m\"\u001b[39m\u001b[38;5;124mCREATE BITMAP INDEX TypeIndex ON \u001b[39m\u001b[38;5;132;01m{\u001b[39;00mtable\u001b[38;5;132;01m}\u001b[39;00m\u001b[38;5;124m(AccountNumber)\u001b[39m\u001b[38;5;124m\"\u001b[39m)\n\u001b[0;32m----> 4\u001b[0m benchmark_sql_query(\u001b[38;5;124m\"\"\"\u001b[39m\u001b[38;5;124mCREATE COLUMNAR INDEX AmountIndex\u001b[39m\n\u001b[1;32m      5\u001b[0m \u001b[38;5;124mON Demo.BankTransactionIndex(Amount)\u001b[39m\u001b[38;5;124m\"\"\"\u001b[39m)\n",
      "Cell \u001b[0;32mIn [28], line 4\u001b[0m, in \u001b[0;36mbenchmark_sql_query\u001b[0;34m(sql_query)\u001b[0m\n\u001b[1;32m      2\u001b[0m \u001b[38;5;28;01mdef\u001b[39;00m \u001b[38;5;21mbenchmark_sql_query\u001b[39m(sql_query):\n\u001b[1;32m      3\u001b[0m     start \u001b[38;5;241m=\u001b[39m time\u001b[38;5;241m.\u001b[39mtime()\n\u001b[0;32m----> 4\u001b[0m     \u001b[43miris\u001b[49m\u001b[38;5;241;43m.\u001b[39;49m\u001b[43msql\u001b[49m\u001b[38;5;241;43m.\u001b[39;49m\u001b[43mexec\u001b[49m\u001b[43m(\u001b[49m\u001b[43msql_query\u001b[49m\u001b[43m)\u001b[49m\n\u001b[1;32m      5\u001b[0m     end \u001b[38;5;241m=\u001b[39m time\u001b[38;5;241m.\u001b[39mtime()\n\u001b[1;32m      6\u001b[0m     \u001b[38;5;28mprint\u001b[39m(\u001b[38;5;124mf\u001b[39m\u001b[38;5;124m\"\u001b[39m\u001b[38;5;132;01m{\u001b[39;00msql_query\u001b[38;5;132;01m}\u001b[39;00m\u001b[38;5;124m in \u001b[39m\u001b[38;5;132;01m{\u001b[39;00mend \u001b[38;5;241m-\u001b[39m start\u001b[38;5;132;01m}\u001b[39;00m\u001b[38;5;124m\"\u001b[39m)\n",
      "\u001b[0;31mSQLError\u001b[0m: Class 'Demo.BankTransactionIndex' already has index named 'AmountIndex'."
     ]
    }
   ],
   "source": [
    "for table in list_tables:\n",
    "    benchmark_sql_query(f\"CREATE BITMAP INDEX TypeIndex ON {table}(AccountNumber)\")\n"
   ]
  },
  {
   "cell_type": "code",
   "execution_count": 111,
   "metadata": {},
   "outputs": [],
   "source": [
    "# utility vars and function to compare metrics\n",
    "last_time = 0\n",
    "last_grefs = 0\n",
    "plans = []\n",
    "\n",
    "def reset_compare():\n",
    "    global last_time, last_grefs\n",
    "    last_time = 0\n",
    "    last_grefs = 0\n",
    "\n",
    "def brag(prev, new, speed=True):\n",
    "    if ((prev == 0) or (new == 0) or (prev == new)):\n",
    "        return \"\"\n",
    "    if (prev > new):\n",
    "        rate = prev / new\n",
    "        if (rate > 2):\n",
    "            return \" - {:,.2f}x {}\".format(rate, \"faster\" if speed else \"less\")\n",
    "        else:\n",
    "            return \" - {:,.0%} {}\".format(rate-1, \"faster\" if speed else \"less\")\n",
    "    else:\n",
    "        rate = new / prev\n",
    "        if (rate > 2):\n",
    "            return \" - {:,.2f}x {}\".format(rate, \"slower\" if speed else \"more\")\n",
    "        else:\n",
    "            return \" - {:,.0%} {}\".format(rate-1, \"slower\" if speed else \"more\")\n",
    "\n",
    "def just_sql(sql):\n",
    "    return iris.sql.exec(sql)[0][0]\n",
    "\n",
    "def query(sql, compare = False, dtypes = None):\n",
    "    global last_time, last_grefs, plans\n",
    "    \n",
    "    start_grefs = just_sql(f\"SELECT Demo.GloRefs()\")\n",
    "    \n",
    "    start_time = time.time()\n",
    "    result = iris.sql.exec(sql).dataframe()\n",
    "    exec_time = time.time() - start_time\n",
    "    \n",
    "    exec_grefs = just_sql(\"SELECT Demo.GloRefs()\") - start_grefs - 1\n",
    "    \n",
    "    if compare:\n",
    "        print(\"\\nExecution time: \"+str(round(exec_time,3))+\"s \" + brag(last_time, exec_time))\n",
    "        print(\"Global references: \"+str(exec_grefs)+\" \"+ brag(last_grefs, exec_grefs, False))\n",
    "        last_time = exec_time\n",
    "        last_grefs = exec_grefs\n",
    "    else:\n",
    "        print(\"\\nExecution time: \"+str(round(exec_time,3))+\"s \\nGlobal references: \"+str(exec_grefs))\n",
    "    \n",
    "    return result"
   ]
  },
  {
   "cell_type": "code",
   "execution_count": 102,
   "metadata": {},
   "outputs": [
    {
     "name": "stdout",
     "output_type": "stream",
     "text": [
      "tune table\n",
      "BUILD INDEX FOR TABLE Demo.BankTransactionRow in 1.4768145084381104\n",
      "TUNE TABLE Demo.BankTransactionRow in 0.618048906326294\n",
      "BUILD INDEX FOR TABLE Demo.BankTransactionColumn in 7.12926983833313\n",
      "TUNE TABLE Demo.BankTransactionColumn in 0.6982026100158691\n",
      "BUILD INDEX FOR TABLE Demo.BankTransactionMix in 1.1216766834259033\n",
      "TUNE TABLE Demo.BankTransactionMix in 0.5242881774902344\n"
     ]
    }
   ],
   "source": [
    "print(\"tune table\")\n",
    "for table in list_tables:\n",
    "    benchmark_sql_query(f\"BUILD INDEX FOR TABLE {table}\")\n",
    "    benchmark_sql_query(\"TUNE TABLE %s\" % table)"
   ]
  },
  {
   "cell_type": "code",
   "execution_count": 112,
   "metadata": {},
   "outputs": [
    {
     "name": "stdout",
     "output_type": "stream",
     "text": [
      "query data\n"
     ]
    },
    {
     "ename": "SQLError",
     "evalue": " User defined SQL function 'DEMO.GLOREFS' does not exist",
     "output_type": "error",
     "traceback": [
      "\u001b[0;31m---------------------------------------------------------------------------\u001b[0m",
      "\u001b[0;31mSQLError\u001b[0m                                  Traceback (most recent call last)",
      "Cell \u001b[0;32mIn [112], line 5\u001b[0m\n\u001b[1;32m      3\u001b[0m iris\u001b[38;5;241m.\u001b[39msql\u001b[38;5;241m.\u001b[39mexec(\u001b[38;5;124m'\u001b[39m\u001b[38;5;124mPURGE CACHED QUERIES\u001b[39m\u001b[38;5;124m'\u001b[39m)\n\u001b[1;32m      4\u001b[0m \u001b[38;5;28;01mfor\u001b[39;00m table \u001b[38;5;129;01min\u001b[39;00m list_tables:\n\u001b[0;32m----> 5\u001b[0m     query(\u001b[38;5;124mf\u001b[39m\u001b[38;5;124m\"\u001b[39m\u001b[38;5;124mSELECT Amount FROM \u001b[39m\u001b[38;5;132;01m{\u001b[39;00mtable\u001b[38;5;132;01m}\u001b[39;00m\u001b[38;5;124m\"\u001b[39m)\n",
      "Cell \u001b[0;32mIn [111], line 33\u001b[0m, in \u001b[0;36mquery\u001b[0;34m(sql, compare, dtypes)\u001b[0m\n\u001b[1;32m     30\u001b[0m \u001b[38;5;28;01mdef\u001b[39;00m \u001b[38;5;21mquery\u001b[39m(sql, compare \u001b[38;5;241m=\u001b[39m \u001b[38;5;28;01mFalse\u001b[39;00m, dtypes \u001b[38;5;241m=\u001b[39m \u001b[38;5;28;01mNone\u001b[39;00m):\n\u001b[1;32m     31\u001b[0m     \u001b[38;5;28;01mglobal\u001b[39;00m last_time, last_grefs, plans\n\u001b[0;32m---> 33\u001b[0m     start_grefs \u001b[38;5;241m=\u001b[39m \u001b[43mjust_sql\u001b[49m\u001b[43m(\u001b[49m\u001b[38;5;124;43mf\u001b[39;49m\u001b[38;5;124;43m\"\u001b[39;49m\u001b[38;5;124;43mSELECT Demo.GloRefs()\u001b[39;49m\u001b[38;5;124;43m\"\u001b[39;49m\u001b[43m)\u001b[49m\n\u001b[1;32m     35\u001b[0m     start_time \u001b[38;5;241m=\u001b[39m time\u001b[38;5;241m.\u001b[39mtime()\n\u001b[1;32m     36\u001b[0m     result \u001b[38;5;241m=\u001b[39m iris\u001b[38;5;241m.\u001b[39msql\u001b[38;5;241m.\u001b[39mexec(sql)\u001b[38;5;241m.\u001b[39mdataframe()\n",
      "Cell \u001b[0;32mIn [111], line 28\u001b[0m, in \u001b[0;36mjust_sql\u001b[0;34m(sql)\u001b[0m\n\u001b[1;32m     27\u001b[0m \u001b[38;5;28;01mdef\u001b[39;00m \u001b[38;5;21mjust_sql\u001b[39m(sql):\n\u001b[0;32m---> 28\u001b[0m     \u001b[38;5;28;01mreturn\u001b[39;00m \u001b[43miris\u001b[49m\u001b[38;5;241;43m.\u001b[39;49m\u001b[43msql\u001b[49m\u001b[38;5;241;43m.\u001b[39;49m\u001b[43mexec\u001b[49m\u001b[43m(\u001b[49m\u001b[43msql\u001b[49m\u001b[43m)\u001b[49m[\u001b[38;5;241m0\u001b[39m][\u001b[38;5;241m0\u001b[39m]\n",
      "\u001b[0;31mSQLError\u001b[0m:  User defined SQL function 'DEMO.GLOREFS' does not exist"
     ]
    }
   ],
   "source": [
    "# query data\n",
    "print(\"query data\")\n",
    "iris.sql.exec('PURGE CACHED QUERIES')\n",
    "for table in list_tables:\n",
    "    query(f\"SELECT Amount FROM {table}\")\n"
   ]
  },
  {
   "cell_type": "code",
   "execution_count": 104,
   "metadata": {},
   "outputs": [
    {
     "name": "stdout",
     "output_type": "stream",
     "text": [
      "benchmark aggregation\n",
      "SELECT AVG(ABS(Amount)),AVG(AccountNumber) FROM Demo.BankTransactionRow where Type = 'credit' and TransactionDate < now() in 0.1443159580230713\n",
      "SELECT AVG(ABS(Amount)),AVG(AccountNumber) FROM Demo.BankTransactionColumn where Type = 'credit' and TransactionDate < now() in 0.10837221145629883\n",
      "SELECT AVG(ABS(Amount)),AVG(AccountNumber) FROM Demo.BankTransactionMix where Type = 'credit' and TransactionDate < now() in 0.10695695877075195\n"
     ]
    }
   ],
   "source": [
    "# benchmark aggregation\n",
    "print(\"benchmark aggregation\")\n",
    "iris.sql.exec('PURGE CACHED QUERIES')\n",
    "for table in list_tables:\n",
    "    benchmark_sql_query(f\"SELECT AVG(ABS(Amount)),AVG(AccountNumber) FROM {table} where Type = 'credit' and TransactionDate < now()\")\n"
   ]
  },
  {
   "cell_type": "code",
   "execution_count": 49,
   "metadata": {},
   "outputs": [
    {
     "name": "stdout",
     "output_type": "stream",
     "text": [
      "table size\n",
      "Demo.BankTransactionRow\n",
      "SELECT * FROM bdb_sql.TableSize('Demo.BankTransactionRow') :\n",
      "Total size: 21.055 allocated, 19.046 used\n",
      "['^CATa.BArF.1', '21', '19']\n",
      "['^CATa.BArF.2', '0.055', '0.046']\n",
      "['^CATa.BArF.S', '', '']\n",
      "['total', '21.055', '19.046']\n",
      "Demo.BankTransactionColumn\n",
      "SELECT * FROM bdb_sql.TableSize('Demo.BankTransactionColumn') :\n",
      "['^CATa.BJqo.1', '4.3', '3.8']\n",
      "['^CATa.BJqo.1.V1', '2.0', '2.0']\n",
      "['^CATa.BJqo.1.V2', '2.0', '2.0']\n",
      "['^CATa.BJqo.1.V3', '18', '18']\n",
      "['^CATa.BJqo.1.V4', '2.0', '2.0']\n",
      "['^CATa.BJqo.1.V5', '0.56', '0.54']\n",
      "['^CATa.BJqo.2', '0.055', '0.046']\n",
      "['^CATa.BJqo.S', '', '']\n",
      "['total', '28.915', '28.386']\n",
      "Demo.BankTransactionMix\n",
      "SELECT * FROM bdb_sql.TableSize('Demo.BankTransactionMix') :\n",
      "['^CATa.CfQt.1', '19', '17']\n",
      "['^CATa.CfQt.1.V1', '2.0', '2.0']\n",
      "['^CATa.CfQt.2', '0.055', '0.046']\n",
      "['^CATa.CfQt.S', '', '']\n",
      "['total', '21.055', '19.046']\n",
      "Demo.BankTransactionIndex\n",
      "Total size: 28.915 allocated, 28.386 used\n"
     ]
    },
    {
     "data": {
      "text/plain": [
       "1"
      ]
     },
     "execution_count": 49,
     "metadata": {},
     "output_type": "execute_result"
    },
    {
     "name": "stdout",
     "output_type": "stream",
     "text": [
      "Total size: 21.055 allocated, 19.046 used\n",
      "Total size: 34.055 allocated, 28.646 used\n"
     ]
    }
   ],
   "source": [
    "# table size\n",
    "print(\"table size\")\n",
    "for table in list_tables:\n",
    "    print(table)\n",
    "    print_sql_query(f\"SELECT * FROM bdb_sql.TableSize('{table}')\") \n",
    "table = 'Demo.BankTransactionIndex'"
   ]
  }
 ],
 "metadata": {
  "kernelspec": {
   "display_name": "Python 3.8.10 64-bit",
   "language": "python",
   "name": "python3"
  },
  "language_info": {
   "codemirror_mode": {
    "name": "ipython",
    "version": 3
   },
   "file_extension": ".py",
   "mimetype": "text/x-python",
   "name": "python",
   "nbconvert_exporter": "python",
   "pygments_lexer": "ipython3",
   "version": "3.8.10"
  },
  "orig_nbformat": 4,
  "vscode": {
   "interpreter": {
    "hash": "243695558918407d35cda78397d98a2b65172e7e725b56b6e26c6388296ed2d1"
   }
  }
 },
 "nbformat": 4,
 "nbformat_minor": 2
}
