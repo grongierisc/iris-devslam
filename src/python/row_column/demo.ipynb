{
 "cells": [
  {
   "cell_type": "markdown",
   "metadata": {},
   "source": [
    "# Row vs Column Storage"
   ]
  },
  {
   "cell_type": "markdown",
   "metadata": {},
   "source": [
    "In InterSystems IRIS®, a relational table, such as the one shown here, is a logical abstraction. It does not reflect the underlying physical storage layout of the data.\n",
    "\n",
    "![image info](https://github.com/grongierisc/iris-devslam/blob/master/misc/img/table_abstraction.png?raw=true)"
   ]
  },
  {
   "cell_type": "markdown",
   "metadata": {},
   "source": [
    "## How data can actually be stored\n",
    "\n",
    "The underlying physical storage layout of the data can be either row or column oriented. In row-oriented storage, the data for each row is stored together. In column-oriented storage, the data for each column is stored together.\n",
    "\n",
    "### Row storage\n",
    "\n",
    "In row storage, the data for each row is stored together. This is the default storage layout in InterSystems IRIS.\n",
    "\n",
    "![image info](https://github.com/grongierisc/iris-devslam/blob/master/misc/img/table_row_storage.png?raw=true)\n",
    "\n",
    "### Column storage\n",
    "\n",
    "In column storage, the data for each column is stored together.\n",
    "\n",
    "![image info](https://github.com/grongierisc/iris-devslam/blob/master/misc/img/table_col_storage.png?raw=true)"
   ]
  },
  {
   "cell_type": "markdown",
   "metadata": {},
   "source": [
    "## Demo\n",
    "\n",
    "In this demo, we will show the difference between row storage and column storage.\n",
    "For that we will create 4 tables with the same data but with different storage layout.\n",
    "\n",
    "* Demo.BankTransactionRow\n",
    "  * A Table that store data in row\n",
    "* Demo.BankTransactionColumn\n",
    "  * A Table that store data in column\n",
    "* Demo.BankTransactionIndex\n",
    "  * A Table that store data in row but with an index in column\n",
    "* Demo.BankTransactionMix\n",
    "  * A Table that store data in row and in column"
   ]
  },
  {
   "cell_type": "markdown",
   "metadata": {},
   "source": [
    "## Let's start\n",
    "\n",
    "First we will import utils functions that will help us to generate data and to measure the time."
   ]
  },
  {
   "cell_type": "code",
   "execution_count": 1,
   "metadata": {},
   "outputs": [],
   "source": [
    "from utilsrowcolumn import * "
   ]
  },
  {
   "cell_type": "markdown",
   "metadata": {},
   "source": [
    "Then we will create the 4 tables."
   ]
  },
  {
   "cell_type": "code",
   "execution_count": 2,
   "metadata": {},
   "outputs": [],
   "source": [
    "list_tables = [\"Demo.BankTransactionRow\", \"Demo.BankTransactionColumn\",\"Demo.BankTransactionIndex\",\"Demo.BankTransactionMix\" ]"
   ]
  },
  {
   "cell_type": "markdown",
   "metadata": {},
   "source": [
    "Clean up the database."
   ]
  },
  {
   "cell_type": "code",
   "execution_count": 3,
   "metadata": {},
   "outputs": [
    {
     "name": "stdout",
     "output_type": "stream",
     "text": [
      "init drop table if exists\n",
      "drop table description\n",
      "create table description\n",
      "create a description table of debit and credit\n",
      "insert data in description table\n"
     ]
    }
   ],
   "source": [
    "# init drop table if exists\n",
    "print(\"init drop table if exists\")\n",
    "for table in list_tables:\n",
    "    run_sql_query(\"DROP TABLE IF EXISTS %s\" % table)\n",
    "\n",
    "# drop table description\n",
    "print(\"drop table description\")\n",
    "run_sql_query(\"DROP TABLE IF EXISTS Demo.BankTransactionDescription\")\n",
    "\n",
    "# create table description\n",
    "print(\"create table description\")\n",
    "create_join_table()"
   ]
  },
  {
   "cell_type": "markdown",
   "metadata": {},
   "source": [
    "## Create the row storage\n",
    "\n",
    "Not much to see here.\n",
    "Basic DDL Statement.\n",
    "\n",
    "![image info](https://github.com/grongierisc/iris-devslam/blob/master/misc/img/table_row_storage.png?raw=true)"
   ]
  },
  {
   "cell_type": "code",
   "execution_count": 4,
   "metadata": {},
   "outputs": [],
   "source": [
    "sql_row = \"\"\"\n",
    "CREATE TABLE Demo.BankTransactionRow (\n",
    "  AccountNumber INTEGER,\n",
    "  TransactionDate DATE,\n",
    "  Description VARCHAR(100),\n",
    "  Amount NUMERIC(10,2),\n",
    "  Type VARCHAR(10)\n",
    ")\n",
    "\"\"\"\n",
    "run_sql_query(sql_row)"
   ]
  },
  {
   "cell_type": "markdown",
   "metadata": {},
   "source": [
    "## Create the indexed row table\n",
    "\n",
    "Same SQL statement that above, but a new index with the tag column.\n",
    "\n",
    "![image info](https://github.com/grongierisc/iris-devslam/blob/master/misc/img/table_bitmap_columnar_index_row.png?raw=true)"
   ]
  },
  {
   "cell_type": "code",
   "execution_count": 5,
   "metadata": {},
   "outputs": [],
   "source": [
    "# index column storage\n",
    "sql_index = \"\"\"\n",
    "CREATE TABLE Demo.BankTransactionIndex (\n",
    "  AccountNumber INTEGER,\n",
    "  TransactionDate DATE,\n",
    "  Description VARCHAR(100),\n",
    "  Amount NUMERIC(10,2),\n",
    "  Type VARCHAR(10)\n",
    ")\n",
    "\"\"\"\n",
    "run_sql_query(sql_index)\n",
    "# Create the index\n",
    "run_sql_query(\"\"\"CREATE COLUMNAR INDEX AmountIndex\n",
    "ON Demo.BankTransactionIndex(Amount)\"\"\")"
   ]
  },
  {
   "cell_type": "markdown",
   "metadata": {},
   "source": [
    "## Create the column storage\n",
    "\n",
    "Pay attention to the tag : WITH STORAGETYPE = COLUMNAR\n",
    "\n",
    "![image info](https://github.com/grongierisc/iris-devslam/blob/master/misc/img/table_col_storage.png?raw=true)"
   ]
  },
  {
   "cell_type": "code",
   "execution_count": 6,
   "metadata": {},
   "outputs": [],
   "source": [
    "# column storage\n",
    "sql_column = \"\"\"\n",
    "CREATE TABLE Demo.BankTransactionColumn (\n",
    "  AccountNumber INTEGER,\n",
    "  TransactionDate DATE,\n",
    "  Description VARCHAR(100),\n",
    "  Amount NUMERIC(10,2),\n",
    "  Type VARCHAR(10)\n",
    ")\n",
    "WITH STORAGETYPE = COLUMNAR\n",
    "\"\"\"\n",
    "run_sql_query(sql_column)"
   ]
  },
  {
   "cell_type": "markdown",
   "metadata": {},
   "source": [
    "## Finaly the mixed storage\n",
    "\n",
    "Pay attention to the Amount column.\n",
    "\n",
    "![image info](https://github.com/grongierisc/iris-devslam/blob/master/misc/img/table_mixed_query.png?raw=true)"
   ]
  },
  {
   "cell_type": "code",
   "execution_count": 7,
   "metadata": {},
   "outputs": [],
   "source": [
    "# mix storage\n",
    "sql_mix = \"\"\"\n",
    "CREATE TABLE Demo.BankTransactionMix (\n",
    "  AccountNumber INTEGER,\n",
    "  TransactionDate DATE,\n",
    "  Description VARCHAR(100),\n",
    "  Amount NUMERIC(10,2) WITH STORAGETYPE = COLUMNAR,\n",
    "  Type VARCHAR(10)\n",
    ")\n",
    "\"\"\"\n",
    "run_sql_query(sql_mix)"
   ]
  },
  {
   "cell_type": "markdown",
   "metadata": {},
   "source": [
    "## Now we have to insert data in those table\n",
    "\n",
    "It will be done in 2 steps:\n",
    "* First we will generate data\n",
    "* Second we will duplicate the data in the table\n",
    "\n",
    "The first parameter is the number of rows to generate per table.\n",
    "\n",
    "The second parameter is the number of duplication to generate.\n",
    "\n",
    "The third is the list of table where the data will be inserted."
   ]
  },
  {
   "cell_type": "code",
   "execution_count": 8,
   "metadata": {},
   "outputs": [
    {
     "name": "stdout",
     "output_type": "stream",
     "text": [
      "create data\n",
      "99.9%\n",
      "created 256,000 fake data in 33.35 seconds, number of rows per second : 7,677.31\n",
      "100.0%build index\n",
      "tune table\n",
      "\n",
      "duplicated a total of 25,600,000 rows in 43.59 row per second : 587,329.33\n"
     ]
    }
   ],
   "source": [
    "print(\"create data\")\n",
    "data = create_n_fake_data(64000,100,list_tables)\n"
   ]
  },
  {
   "cell_type": "markdown",
   "metadata": {},
   "source": [
    "## Summerias"
   ]
  },
  {
   "cell_type": "markdown",
   "metadata": {},
   "source": [
    "In less that 3 minutes we have built a data set of **100 millions rows** :)"
   ]
  },
  {
   "cell_type": "markdown",
   "metadata": {},
   "source": [
    "# Now start the demo"
   ]
  },
  {
   "cell_type": "markdown",
   "metadata": {},
   "source": [
    "## let count the row in tables"
   ]
  },
  {
   "cell_type": "code",
   "execution_count": 9,
   "metadata": {},
   "outputs": [
    {
     "name": "stdout",
     "output_type": "stream",
     "text": [
      "query count data\n",
      "SELECT COUNT(*) FROM Demo.BankTransactionRow :\n",
      "[6464000]\n",
      "SELECT COUNT(*) FROM Demo.BankTransactionColumn :\n",
      "[6464000]\n",
      "SELECT COUNT(*) FROM Demo.BankTransactionIndex :\n",
      "[6464000]\n",
      "SELECT COUNT(*) FROM Demo.BankTransactionMix :\n",
      "[6464000]\n"
     ]
    }
   ],
   "source": [
    "# query count data\n",
    "print(\"query count data\")\n",
    "for table in list_tables:\n",
    "    print_sql_query(f\"SELECT COUNT(*) FROM {table}\")\n"
   ]
  },
  {
   "cell_type": "markdown",
   "metadata": {},
   "source": [
    "## Query the top 100 000 datas for each tables"
   ]
  },
  {
   "cell_type": "code",
   "execution_count": 10,
   "metadata": {},
   "outputs": [
    {
     "name": "stdout",
     "output_type": "stream",
     "text": [
      "query data\n",
      "number of rows : 100000\n",
      "SELECT TOP 100000 * FROM Demo.BankTransactionRow  in 1.97 seconds, row per second : 50,668.98\n",
      "number of rows : 100000\n",
      "SELECT TOP 100000 * FROM Demo.BankTransactionColumn  in 1.73 seconds, row per second : 57,934.63\n",
      "number of rows : 100000\n",
      "SELECT TOP 100000 * FROM Demo.BankTransactionIndex  in 1.74 seconds, row per second : 57,413.62\n",
      "number of rows : 100000\n",
      "SELECT TOP 100000 * FROM Demo.BankTransactionMix  in 1.75 seconds, row per second : 57,091.37\n"
     ]
    }
   ],
   "source": [
    "# query data\n",
    "print(\"query data\")\n",
    "for table in list_tables:\n",
    "    benchmark_sql_query(\"SELECT TOP 100000 * FROM %s \" % table)\n"
   ]
  },
  {
   "cell_type": "markdown",
   "metadata": {},
   "source": [
    "## Let try aggregation"
   ]
  },
  {
   "cell_type": "code",
   "execution_count": 8,
   "metadata": {},
   "outputs": [
    {
     "name": "stdout",
     "output_type": "stream",
     "text": [
      "benchmark aggregation\n",
      "number of rows : 1\n",
      "SELECT AVG(ABS(Amount)) FROM Demo.BankTransactionRow  in 0.58 seconds, row per second : 1.73\n",
      "number of rows : 1\n",
      "SELECT AVG(ABS(Amount)) FROM Demo.BankTransactionColumn  in 0.24 seconds, row per second : 4.20\n",
      "number of rows : 1\n",
      "SELECT AVG(ABS(Amount)) FROM Demo.BankTransactionIndex  in 0.23 seconds, row per second : 4.34\n",
      "number of rows : 1\n",
      "SELECT AVG(ABS(Amount)) FROM Demo.BankTransactionMix  in 0.24 seconds, row per second : 4.08\n"
     ]
    }
   ],
   "source": [
    "# benchmark aggregation\n",
    "print(\"benchmark aggregation\")\n",
    "for table in list_tables:\n",
    "    benchmark_sql_query(\"SELECT AVG(ABS(Amount)) FROM %s \" % table)\n"
   ]
  },
  {
   "cell_type": "markdown",
   "metadata": {},
   "source": [
    "## Show case SQL join"
   ]
  },
  {
   "cell_type": "code",
   "execution_count": 12,
   "metadata": {},
   "outputs": [
    {
     "name": "stdout",
     "output_type": "stream",
     "text": [
      "benchmark join\n",
      "number of rows : 100000\n",
      "SELECT TOP 100000 * FROM Demo.BankTransactionRow t1 \n",
      "        JOIN Demo.BankTransactionDescription t2 ON t1.Type = t2.Type in 2.33 seconds, row per second : 42,880.57\n",
      "number of rows : 100000\n",
      "SELECT TOP 100000 * FROM Demo.BankTransactionColumn t1 \n",
      "        JOIN Demo.BankTransactionDescription t2 ON t1.Type = t2.Type in 1.88 seconds, row per second : 53,288.67\n",
      "number of rows : 100000\n",
      "SELECT TOP 100000 * FROM Demo.BankTransactionIndex t1 \n",
      "        JOIN Demo.BankTransactionDescription t2 ON t1.Type = t2.Type in 1.88 seconds, row per second : 53,137.88\n",
      "number of rows : 100000\n",
      "SELECT TOP 100000 * FROM Demo.BankTransactionMix t1 \n",
      "        JOIN Demo.BankTransactionDescription t2 ON t1.Type = t2.Type in 1.89 seconds, row per second : 52,900.02\n"
     ]
    }
   ],
   "source": [
    "# benchmark join\n",
    "print(\"benchmark join\")\n",
    "for table in list_tables:\n",
    "    benchmark_sql_query(\"\"\"SELECT TOP 100000 * FROM %s t1 \n",
    "        JOIN Demo.BankTransactionDescription t2 ON t1.Type = t2.Type\"\"\" % table)\n"
   ]
  },
  {
   "cell_type": "markdown",
   "metadata": {},
   "source": [
    "## Bench Insert"
   ]
  },
  {
   "cell_type": "code",
   "execution_count": 3,
   "metadata": {},
   "outputs": [
    {
     "name": "stdout",
     "output_type": "stream",
     "text": [
      "benchmark insert\n",
      "for table Demo.BankTransactionRow\n",
      "99.9%\n",
      "created 25,000 fake data in 3.16 seconds, number of rows per second : 7,918.27\n",
      "for table Demo.BankTransactionColumn\n",
      "99.9%\n",
      "created 25,000 fake data in 4.97 seconds, number of rows per second : 5,030.16\n",
      "for table Demo.BankTransactionIndex\n",
      "99.9%\n",
      "created 25,000 fake data in 3.57 seconds, number of rows per second : 7,004.54\n",
      "for table Demo.BankTransactionMix\n",
      "99.9%\n",
      "created 25,000 fake data in 3.63 seconds, number of rows per second : 6,882.18\n"
     ]
    }
   ],
   "source": [
    "# benchmark insert\n",
    "print(\"benchmark insert\")\n",
    "for table in list_tables:\n",
    "    start = time.time()\n",
    "    print(f\"for table {table}\")\n",
    "    create_n_fake_data(25000,0,[table])\n",
    "    end = time.time()"
   ]
  },
  {
   "cell_type": "markdown",
   "metadata": {},
   "source": [
    "## Check table size"
   ]
  },
  {
   "cell_type": "code",
   "execution_count": 4,
   "metadata": {},
   "outputs": [
    {
     "name": "stdout",
     "output_type": "stream",
     "text": [
      "table size\n",
      "SELECT * FROM bdb_sql.TableSize('Demo.BankTransactionRow') :\n",
      "['total', '264.07', '236.061']\n",
      "SELECT * FROM bdb_sql.TableSize('Demo.BankTransactionColumn') :\n",
      "['total', '151.67', '142.461']\n",
      "SELECT * FROM bdb_sql.TableSize('Demo.BankTransactionIndex') :\n",
      "['total', '291.07', '262.061']\n",
      "SELECT * FROM bdb_sql.TableSize('Demo.BankTransactionMix') :\n",
      "['total', '246.07', '222.061']\n"
     ]
    }
   ],
   "source": [
    "# table size\n",
    "print(\"table size\")\n",
    "for table in list_tables:\n",
    "    print_sql_query(\"SELECT * FROM bdb_sql.TableSize('%s')\" % table)\n"
   ]
  },
  {
   "cell_type": "code",
   "execution_count": null,
   "metadata": {},
   "outputs": [],
   "source": []
  }
 ],
 "metadata": {
  "kernelspec": {
   "display_name": "IRIS Python",
   "language": "python",
   "name": "irispython"
  },
  "language_info": {
   "codemirror_mode": {
    "name": "ipython",
    "version": 3
   },
   "file_extension": ".py",
   "mimetype": "text/x-python",
   "name": "python",
   "nbconvert_exporter": "python",
   "pygments_lexer": "ipython3",
   "version": "3.10.6"
  },
  "vscode": {
   "interpreter": {
    "hash": "243695558918407d35cda78397d98a2b65172e7e725b56b6e26c6388296ed2d1"
   }
  }
 },
 "nbformat": 4,
 "nbformat_minor": 2
}
