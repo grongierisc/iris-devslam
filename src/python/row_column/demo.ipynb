{
 "cells": [
  {
   "cell_type": "markdown",
   "metadata": {},
   "source": [
    "# Row vs Column Storage"
   ]
  },
  {
   "cell_type": "markdown",
   "metadata": {},
   "source": [
    "In InterSystems IRIS®, a relational table, such as the one shown here, is a logical abstraction. It does not reflect the underlying physical storage layout of the data.\n",
    "\n",
    "![image info](https://raw.githubusercontent.com/grongierisc/iris-devslam/master/misc/img/table_abstraction.jpg)"
   ]
  },
  {
   "cell_type": "markdown",
   "metadata": {},
   "source": [
    "## How data can actually be stored\n",
    "\n",
    "Il y a plusieurs possibilité pour stocké de la donnée sous forme de table.\n",
    "Nous allons en voir quatre type.\n",
    "Ces quatres types peuvent etre classée en deux catégories : en ligne, en colonne.\n",
    "\n",
    "### Row storage\n",
    "\n",
    "### Column storage"
   ]
  },
  {
   "cell_type": "markdown",
   "metadata": {},
   "source": [
    "## Import utils function"
   ]
  },
  {
   "cell_type": "code",
   "execution_count": 1,
   "metadata": {},
   "outputs": [],
   "source": [
    "from utilsrowcolumn import * "
   ]
  },
  {
   "cell_type": "markdown",
   "metadata": {},
   "source": [
    "# init list of different kind of table used in this demo\n",
    "\n",
    "We will be using :\n",
    "\n",
    "* Demo.BankTransactionRow\n",
    "  * A Table that store data in row\n",
    "* Demo.BankTransactionColumn\n",
    "  * A Table that store data in column\n",
    "* Demo.BankTransactionIndex\n",
    "  * A Table that store data in row but with an index in column\n",
    "* Demo.BankTransactionMix\n",
    "  * A Table that store data in row and in column"
   ]
  },
  {
   "cell_type": "code",
   "execution_count": 2,
   "metadata": {},
   "outputs": [],
   "source": [
    "list_tables = [\"Demo.BankTransactionRow\", \"Demo.BankTransactionColumn\",\"Demo.BankTransactionIndex\",\"Demo.BankTransactionMix\" ]\n"
   ]
  },
  {
   "cell_type": "markdown",
   "metadata": {},
   "source": [
    "## Let's start\n",
    "\n",
    "We will drop tables if they exists"
   ]
  },
  {
   "cell_type": "code",
   "execution_count": 3,
   "metadata": {},
   "outputs": [
    {
     "name": "stdout",
     "output_type": "stream",
     "text": [
      "init drop table if exists\n",
      "number of rows : 0\n",
      "DROP TABLE IF EXISTS Demo.BankTransactionRow in 2.738652467727661\n",
      "number of rows : 0\n",
      "DROP TABLE IF EXISTS Demo.BankTransactionColumn in 1.2384445667266846\n",
      "number of rows : 0\n",
      "DROP TABLE IF EXISTS Demo.BankTransactionIndex in 1.2114002704620361\n",
      "number of rows : 0\n",
      "DROP TABLE IF EXISTS Demo.BankTransactionMix in 1.3700847625732422\n",
      "drop table description\n",
      "number of rows : 0\n",
      "DROP TABLE IF EXISTS Demo.BankTransactionDescription in 0.03394770622253418\n"
     ]
    }
   ],
   "source": [
    "# init drop table if exists\n",
    "print(\"init drop table if exists\")\n",
    "for table in list_tables:\n",
    "    benchmark_sql_query(\"DROP TABLE IF EXISTS %s\" % table)\n",
    "\n",
    "# drop table description\n",
    "print(\"drop table description\")\n",
    "benchmark_sql_query(\"DROP TABLE IF EXISTS Demo.BankTransactionDescription\")"
   ]
  },
  {
   "cell_type": "markdown",
   "metadata": {},
   "source": [
    "## Create the row storage\n",
    "\n",
    "Not much to see here.\n",
    "Basic DDL Statement."
   ]
  },
  {
   "cell_type": "code",
   "execution_count": 4,
   "metadata": {},
   "outputs": [
    {
     "name": "stdout",
     "output_type": "stream",
     "text": [
      "number of rows : 0\n",
      "\n",
      "CREATE TABLE Demo.BankTransactionRow (\n",
      "  AccountNumber INTEGER,\n",
      "  TransactionDate DATE,\n",
      "  Description VARCHAR(100),\n",
      "  Amount NUMERIC(10,2),\n",
      "  Type VARCHAR(10)\n",
      ")\n",
      " in 0.21885895729064941\n"
     ]
    }
   ],
   "source": [
    "sql_row = \"\"\"\n",
    "CREATE TABLE Demo.BankTransactionRow (\n",
    "  AccountNumber INTEGER,\n",
    "  TransactionDate DATE,\n",
    "  Description VARCHAR(100),\n",
    "  Amount NUMERIC(10,2),\n",
    "  Type VARCHAR(10)\n",
    ")\n",
    "\"\"\"\n",
    "benchmark_sql_query(sql_row)"
   ]
  },
  {
   "cell_type": "markdown",
   "metadata": {},
   "source": [
    "## Create the indexed row table\n",
    "\n",
    "Same SQL statement that above, but a new index with the tag column."
   ]
  },
  {
   "cell_type": "code",
   "execution_count": 5,
   "metadata": {},
   "outputs": [
    {
     "name": "stdout",
     "output_type": "stream",
     "text": [
      "number of rows : 0\n",
      "\n",
      "CREATE TABLE Demo.BankTransactionIndex (\n",
      "  AccountNumber INTEGER,\n",
      "  TransactionDate DATE,\n",
      "  Description VARCHAR(100),\n",
      "  Amount NUMERIC(10,2),\n",
      "  Type VARCHAR(10)\n",
      ")\n",
      " in 0.1506037712097168\n",
      "number of rows : 0\n",
      "CREATE COLUMNAR INDEX AmountIndex\n",
      "ON Demo.BankTransactionIndex(Amount) in 0.14767193794250488\n"
     ]
    }
   ],
   "source": [
    "# index column storage\n",
    "sql_index = \"\"\"\n",
    "CREATE TABLE Demo.BankTransactionIndex (\n",
    "  AccountNumber INTEGER,\n",
    "  TransactionDate DATE,\n",
    "  Description VARCHAR(100),\n",
    "  Amount NUMERIC(10,2),\n",
    "  Type VARCHAR(10)\n",
    ")\n",
    "\"\"\"\n",
    "benchmark_sql_query(sql_index)\n",
    "# Create the index\n",
    "benchmark_sql_query(\"\"\"CREATE COLUMNAR INDEX AmountIndex\n",
    "ON Demo.BankTransactionIndex(Amount)\"\"\")"
   ]
  },
  {
   "cell_type": "markdown",
   "metadata": {},
   "source": [
    "## Create the column storage\n",
    "\n",
    "Pay attention to the tag : WITH STORAGETYPE = COLUMNAR"
   ]
  },
  {
   "cell_type": "code",
   "execution_count": 6,
   "metadata": {},
   "outputs": [
    {
     "name": "stdout",
     "output_type": "stream",
     "text": [
      "number of rows : 0\n",
      "\n",
      "CREATE TABLE Demo.BankTransactionColumn (\n",
      "  AccountNumber INTEGER,\n",
      "  TransactionDate DATE,\n",
      "  Description VARCHAR(100),\n",
      "  Amount NUMERIC(10,2),\n",
      "  Type VARCHAR(10)\n",
      ")\n",
      "WITH STORAGETYPE = COLUMNAR\n",
      " in 0.15253281593322754\n"
     ]
    }
   ],
   "source": [
    "# column storage\n",
    "sql_column = \"\"\"\n",
    "CREATE TABLE Demo.BankTransactionColumn (\n",
    "  AccountNumber INTEGER,\n",
    "  TransactionDate DATE,\n",
    "  Description VARCHAR(100),\n",
    "  Amount NUMERIC(10,2),\n",
    "  Type VARCHAR(10)\n",
    ")\n",
    "WITH STORAGETYPE = COLUMNAR\n",
    "\"\"\"\n",
    "benchmark_sql_query(sql_column)"
   ]
  },
  {
   "cell_type": "markdown",
   "metadata": {},
   "source": [
    "## Finaly the mixed storage\n",
    "\n",
    "Pay attention to the Amount column"
   ]
  },
  {
   "cell_type": "code",
   "execution_count": 7,
   "metadata": {},
   "outputs": [
    {
     "name": "stdout",
     "output_type": "stream",
     "text": [
      "number of rows : 0\n",
      "\n",
      "CREATE TABLE Demo.BankTransactionMix (\n",
      "  AccountNumber INTEGER,\n",
      "  TransactionDate DATE,\n",
      "  Description VARCHAR(100),\n",
      "  Amount NUMERIC(10,2) WITH STORAGETYPE = COLUMNAR,\n",
      "  Type VARCHAR(10)\n",
      ")\n",
      " in 0.1300206184387207\n"
     ]
    }
   ],
   "source": [
    "# mix storage\n",
    "sql_mix = \"\"\"\n",
    "CREATE TABLE Demo.BankTransactionMix (\n",
    "  AccountNumber INTEGER,\n",
    "  TransactionDate DATE,\n",
    "  Description VARCHAR(100),\n",
    "  Amount NUMERIC(10,2) WITH STORAGETYPE = COLUMNAR,\n",
    "  Type VARCHAR(10)\n",
    ")\n",
    "\"\"\"\n",
    "benchmark_sql_query(sql_mix)"
   ]
  },
  {
   "cell_type": "markdown",
   "metadata": {},
   "source": [
    "## Now we have to insert data in those table\n",
    "\n",
    "We will be doing it in 2 setps.\n",
    "First generate 100 000 syntetic datas.\n",
    "Second duplicate this syntetic data with the speed of light"
   ]
  },
  {
   "cell_type": "code",
   "execution_count": 8,
   "metadata": {},
   "outputs": [
    {
     "name": "stdout",
     "output_type": "stream",
     "text": [
      "create data\n",
      "99.9%\n",
      "create 400000 fake data in 61.52186441421509 seconds, number of rows per second : 6501.7535441851305\n"
     ]
    }
   ],
   "source": [
    "print(\"create data\")\n",
    "data = create_n_fake_data(100000,list_tables)\n"
   ]
  },
  {
   "cell_type": "markdown",
   "metadata": {},
   "source": [
    "# Let reatch the speed of light\n",
    "\n",
    "Here we will be using the underlying nature of IRIS, globals.\n",
    "We will be copying with low level code the 64000 first datas of each table 100 times."
   ]
  },
  {
   "cell_type": "code",
   "execution_count": 10,
   "metadata": {},
   "outputs": [
    {
     "name": "stdout",
     "output_type": "stream",
     "text": [
      "\n",
      "insert 100*64 000 rows\n",
      "99.0%insert 6400000 rows in 41.20470690727234 row per second : 155322.06100634695\n"
     ]
    }
   ],
   "source": [
    "x = 100\n",
    "print(f\"\\ninsert {x}*64 000 rows\")\n",
    "start = time.time()\n",
    "for i in range(x):\n",
    "    print(f\"\\r{i/x*100:.1f}%\", end='')\n",
    "    for table in list_tables:\n",
    "        add_64000_rows(table)\n",
    "end = time.time()\n",
    "print(f\"\\ninsert {x*64000} rows in {end - start} row per second : {64000*x/(end - start)}\")\n"
   ]
  },
  {
   "cell_type": "markdown",
   "metadata": {},
   "source": [
    "## build the indexes"
   ]
  },
  {
   "cell_type": "code",
   "execution_count": 11,
   "metadata": {},
   "outputs": [
    {
     "name": "stdout",
     "output_type": "stream",
     "text": [
      "number of rows : 0\n",
      "build index for table Demo.BankTransactionRow in 4.890666246414185\n",
      "number of rows : 0\n",
      "build index for table Demo.BankTransactionColumn in 5.194094896316528\n",
      "number of rows : 0\n",
      "build index for table Demo.BankTransactionIndex in 6.571071147918701\n",
      "number of rows : 0\n",
      "build index for table Demo.BankTransactionMix in 4.4333226680755615\n",
      "tune table\n",
      "number of rows : 0\n",
      "TUNE TABLE Demo.BankTransactionRow in 1.000699520111084\n",
      "number of rows : 0\n",
      "TUNE TABLE Demo.BankTransactionColumn in 1.4356026649475098\n",
      "number of rows : 0\n",
      "TUNE TABLE Demo.BankTransactionIndex in 0.8562057018280029\n",
      "number of rows : 0\n",
      "TUNE TABLE Demo.BankTransactionMix in 0.9843282699584961\n"
     ]
    }
   ],
   "source": [
    "# build index\n",
    "for table in list_tables:\n",
    "    benchmark_sql_query(f\"build index for table {table}\")\n",
    "# tune table\n",
    "print(\"tune table\")\n",
    "for table in list_tables:\n",
    "    benchmark_sql_query(\"TUNE TABLE %s\" % table)\n"
   ]
  },
  {
   "cell_type": "markdown",
   "metadata": {},
   "source": [
    "## Create an desciption table to showcase SQL join"
   ]
  },
  {
   "cell_type": "code",
   "execution_count": 13,
   "metadata": {},
   "outputs": [
    {
     "name": "stdout",
     "output_type": "stream",
     "text": [
      "create a description table of debit and credit\n",
      "number of rows : 0\n",
      "\n",
      "CREATE TABLE Demo.BankTransactionDescription (\n",
      "    Description VARCHAR(100),\n",
      "    Type VARCHAR(10)\n",
      ")\n",
      " in 0.13489317893981934\n",
      "insert data in description table\n",
      "number of rows : 0\n",
      "\n",
      "INSERT INTO Demo.BankTransactionDescription\n",
      "values\n",
      "('Salary','credit')\n",
      " in 0.010725259780883789\n",
      "number of rows : 0\n",
      "\n",
      "INSERT INTO Demo.BankTransactionDescription\n",
      "values\n",
      "('Rent','debit')\n",
      " in 0.0003070831298828125\n"
     ]
    }
   ],
   "source": [
    "# create a description table of debit and credit\n",
    "print(\"create a description table of debit and credit\")\n",
    "benchmark_sql_query(\"\"\"\n",
    "CREATE TABLE Demo.BankTransactionDescription (\n",
    "    Description VARCHAR(100),\n",
    "    Type VARCHAR(10)\n",
    ")\n",
    "\"\"\"\n",
    ")\n",
    "\n",
    "# insert data in description table\n",
    "print(\"insert data in description table\")\n",
    "benchmark_sql_query(\"\"\"\n",
    "INSERT INTO Demo.BankTransactionDescription\n",
    "values\n",
    "('Salary','credit')\n",
    "\"\"\")\n",
    "benchmark_sql_query(\"\"\"\n",
    "INSERT INTO Demo.BankTransactionDescription\n",
    "values\n",
    "('Rent','debit')\n",
    "\"\"\"\n",
    ")"
   ]
  },
  {
   "cell_type": "markdown",
   "metadata": {},
   "source": [
    "## Summerias"
   ]
  },
  {
   "cell_type": "markdown",
   "metadata": {},
   "source": [
    "In less that 3 minutes we have built a data set of **1 billion lines** :)"
   ]
  },
  {
   "cell_type": "markdown",
   "metadata": {},
   "source": [
    "# Now start the demo"
   ]
  },
  {
   "cell_type": "markdown",
   "metadata": {},
   "source": [
    "## let count the row in tables"
   ]
  },
  {
   "cell_type": "code",
   "execution_count": 14,
   "metadata": {},
   "outputs": [
    {
     "name": "stdout",
     "output_type": "stream",
     "text": [
      "query count data\n",
      "SELECT COUNT(*) FROM Demo.BankTransactionRow :\n",
      "[12900000]\n",
      "SELECT COUNT(*) FROM Demo.BankTransactionColumn :\n",
      "[12900000]\n",
      "SELECT COUNT(*) FROM Demo.BankTransactionIndex :\n",
      "[12900000]\n",
      "SELECT COUNT(*) FROM Demo.BankTransactionMix :\n",
      "[12900000]\n"
     ]
    }
   ],
   "source": [
    "# query count data\n",
    "print(\"query count data\")\n",
    "for table in list_tables:\n",
    "    print_sql_query(f\"SELECT COUNT(*) FROM {table}\")\n"
   ]
  },
  {
   "cell_type": "markdown",
   "metadata": {},
   "source": [
    "## Query the top 100 000 datas for each tables"
   ]
  },
  {
   "cell_type": "code",
   "execution_count": 15,
   "metadata": {},
   "outputs": [
    {
     "name": "stdout",
     "output_type": "stream",
     "text": [
      "query data\n",
      "number of rows : 100000\n",
      "SELECT TOP 100000 * FROM Demo.BankTransactionRow  in 1.9589028358459473\n",
      "number of rows : 100000\n",
      "SELECT TOP 100000 * FROM Demo.BankTransactionColumn  in 1.878265142440796\n",
      "number of rows : 100000\n",
      "SELECT TOP 100000 * FROM Demo.BankTransactionIndex  in 1.820725917816162\n",
      "number of rows : 100000\n",
      "SELECT TOP 100000 * FROM Demo.BankTransactionMix  in 1.7693462371826172\n"
     ]
    }
   ],
   "source": [
    "# query data\n",
    "print(\"query data\")\n",
    "for table in list_tables:\n",
    "    benchmark_sql_query(\"SELECT TOP 100000 * FROM %s \" % table)\n"
   ]
  },
  {
   "cell_type": "markdown",
   "metadata": {},
   "source": [
    "## Let try aggregation"
   ]
  },
  {
   "cell_type": "code",
   "execution_count": 16,
   "metadata": {},
   "outputs": [
    {
     "name": "stdout",
     "output_type": "stream",
     "text": [
      "benchmark aggregation\n",
      "number of rows : 1\n",
      "SELECT AVG(ABS(Amount)) FROM Demo.BankTransactionRow  in 1.196108102798462\n",
      "number of rows : 1\n",
      "SELECT AVG(ABS(Amount)) FROM Demo.BankTransactionColumn  in 1.7184019088745117\n",
      "number of rows : 1\n",
      "SELECT AVG(ABS(Amount)) FROM Demo.BankTransactionIndex  in 0.5890133380889893\n",
      "number of rows : 1\n",
      "SELECT AVG(ABS(Amount)) FROM Demo.BankTransactionMix  in 0.6251823902130127\n"
     ]
    }
   ],
   "source": [
    "# benchmark aggregation\n",
    "print(\"benchmark aggregation\")\n",
    "for table in list_tables:\n",
    "    benchmark_sql_query(\"SELECT AVG(ABS(Amount)) FROM %s \" % table)\n"
   ]
  },
  {
   "cell_type": "markdown",
   "metadata": {},
   "source": [
    "## Show case SQL join"
   ]
  },
  {
   "cell_type": "code",
   "execution_count": 17,
   "metadata": {},
   "outputs": [
    {
     "name": "stdout",
     "output_type": "stream",
     "text": [
      "benchmark join\n",
      "number of rows : 100000\n",
      "SELECT TOP 100000 * FROM Demo.BankTransactionRow t1 \n",
      "        JOIN Demo.BankTransactionDescription t2 ON t1.Type = t2.Type in 2.2476725578308105\n",
      "number of rows : 100000\n",
      "SELECT TOP 100000 * FROM Demo.BankTransactionColumn t1 \n",
      "        JOIN Demo.BankTransactionDescription t2 ON t1.Type = t2.Type in 1.9205644130706787\n",
      "number of rows : 100000\n",
      "SELECT TOP 100000 * FROM Demo.BankTransactionIndex t1 \n",
      "        JOIN Demo.BankTransactionDescription t2 ON t1.Type = t2.Type in 1.942474603652954\n",
      "number of rows : 100000\n",
      "SELECT TOP 100000 * FROM Demo.BankTransactionMix t1 \n",
      "        JOIN Demo.BankTransactionDescription t2 ON t1.Type = t2.Type in 2.1324243545532227\n"
     ]
    }
   ],
   "source": [
    "# benchmark join\n",
    "print(\"benchmark join\")\n",
    "for table in list_tables:\n",
    "    benchmark_sql_query(\"\"\"SELECT TOP 100000 * FROM %s t1 \n",
    "        JOIN Demo.BankTransactionDescription t2 ON t1.Type = t2.Type\"\"\" % table)\n"
   ]
  },
  {
   "cell_type": "markdown",
   "metadata": {},
   "source": [
    "## Bench Insert"
   ]
  },
  {
   "cell_type": "code",
   "execution_count": 18,
   "metadata": {},
   "outputs": [
    {
     "name": "stdout",
     "output_type": "stream",
     "text": [
      "benchmark insert\n",
      "for table Demo.BankTransactionRow\n",
      "99.9%\n",
      "create 10000 fake data in 1.3060083389282227 seconds, number of rows per second : 7656.918950614444\n",
      "for table Demo.BankTransactionColumn\n",
      "99.9%\n",
      "create 10000 fake data in 2.790039300918579 seconds, number of rows per second : 3584.178902679847\n",
      "for table Demo.BankTransactionIndex\n",
      "99.9%\n",
      "create 10000 fake data in 1.7931938171386719 seconds, number of rows per second : 5576.642025208744\n",
      "for table Demo.BankTransactionMix\n",
      "99.9%\n",
      "create 10000 fake data in 1.782226800918579 seconds, number of rows per second : 5610.958153499819\n"
     ]
    }
   ],
   "source": [
    "# benchmark insert\n",
    "print(\"benchmark insert\")\n",
    "for table in list_tables:\n",
    "    start = time.time()\n",
    "    print(f\"for table {table}\")\n",
    "    create_n_fake_data(10000,[table])\n",
    "    end = time.time()"
   ]
  },
  {
   "cell_type": "markdown",
   "metadata": {},
   "source": [
    "## Check table size"
   ]
  },
  {
   "cell_type": "code",
   "execution_count": 19,
   "metadata": {},
   "outputs": [
    {
     "name": "stdout",
     "output_type": "stream",
     "text": [
      "table size\n",
      "SELECT * FROM bdb_sql.TableSize('Demo.BankTransactionRow') :\n",
      "['total', '518.07', '463.06']\n",
      "SELECT * FROM bdb_sql.TableSize('Demo.BankTransactionColumn') :\n",
      "['total', '294.07', '280.06']\n",
      "SELECT * FROM bdb_sql.TableSize('Demo.BankTransactionIndex') :\n",
      "['total', '570.07', '514.06']\n",
      "SELECT * FROM bdb_sql.TableSize('Demo.BankTransactionMix') :\n",
      "['total', '485.07', '438.06']\n"
     ]
    }
   ],
   "source": [
    "# table size\n",
    "print(\"table size\")\n",
    "for table in list_tables:\n",
    "    print_sql_query(\"SELECT * FROM bdb_sql.TableSize('%s')\" % table)\n"
   ]
  },
  {
   "cell_type": "code",
   "execution_count": null,
   "metadata": {},
   "outputs": [],
   "source": []
  }
 ],
 "metadata": {
  "kernelspec": {
   "display_name": "IRIS Python",
   "language": "python",
   "name": "irispython"
  },
  "language_info": {
   "codemirror_mode": {
    "name": "ipython",
    "version": 3
   },
   "file_extension": ".py",
   "mimetype": "text/x-python",
   "name": "python",
   "nbconvert_exporter": "python",
   "pygments_lexer": "ipython3",
   "version": "3.8.10"
  },
  "vscode": {
   "interpreter": {
    "hash": "243695558918407d35cda78397d98a2b65172e7e725b56b6e26c6388296ed2d1"
   }
  }
 },
 "nbformat": 4,
 "nbformat_minor": 2
}
