{
 "cells": [
  {
   "cell_type": "markdown",
   "id": "549923fc",
   "metadata": {},
   "source": [
    "# IRIS Bench Vs Redis"
   ]
  },
  {
   "cell_type": "markdown",
   "id": "db01b2c5",
   "metadata": {},
   "source": [
    "The aim of this notebook is to compare the performance between IRIS In-Memory database and Redis"
   ]
  },
  {
   "cell_type": "code",
   "execution_count": null,
   "id": "a98e6006",
   "metadata": {},
   "outputs": [],
   "source": [
    "# import the iris module to make the connection to the database\n",
    "import iris\n",
    "# import redis\n",
    "import redis\n",
    "# import random to generate random numbers\n",
    "import random\n",
    "# import tqdm to show progress bars\n",
    "import tqdm\n",
    "# import colorama to color the output\n",
    "import colorama"
   ]
  },
  {
   "cell_type": "markdown",
   "id": "09efde97",
   "metadata": {},
   "source": [
    "it will make 100 000 writes and then 100 000 reads"
   ]
  },
  {
   "cell_type": "code",
   "execution_count": null,
   "id": "ae2d95ab",
   "metadata": {},
   "outputs": [],
   "source": [
    "numWrites = 100000\n",
    "numReads  = 100000"
   ]
  },
  {
   "cell_type": "markdown",
   "id": "a9a08675",
   "metadata": {},
   "source": [
    "## Create helper functions"
   ]
  },
  {
   "cell_type": "code",
   "execution_count": null,
   "id": "a44b60f2",
   "metadata": {},
   "outputs": [],
   "source": [
    "## Getter and Setter\n",
    "# set a global variable\n",
    "def setter(connection, key, value):\n",
    "    \"\"\"\n",
    "    Set a key to a value in the database\n",
    "    \"\"\"\n",
    "    connection[key] = value\n",
    "\n",
    "# get a global variable\n",
    "def getter(connection, key):\n",
    "    \"\"\"\n",
    "    Get a key from the database\n",
    "    \"\"\"\n",
    "    return connection[key]\n",
    "\n",
    "\n",
    "## Commun\n",
    "# Writer\n",
    "def write(setter,connection,numKeys):\n",
    "    \"\"\"\n",
    "    Write numKeys keys to the database\n",
    "    \"\"\"\n",
    "    \n",
    "    # create a global reference to the database\n",
    "    \n",
    "    # create a progress bar\n",
    "    iter = tqdm.tqdm(range(numKeys), \"Writing\", bar_format='{l_bar}{bar}')\n",
    "    \n",
    "    # iterate over the progress bar\n",
    "    for i in iter:\n",
    "        # write a key and a value to the database\n",
    "        setter(connection, 'key'+str(i), 'val'+str(random.randint(0,999999)))\n",
    "    \n",
    "    # return the elapsed time\n",
    "    return(iter.format_dict[\"elapsed\"])\n",
    "\n",
    "# Reader\n",
    "def random_read(getter,connection,numKeys, numReads):\n",
    "    \"\"\"\n",
    "    Read numReads random keys from the database\n",
    "    \"\"\"\n",
    "\n",
    "    # create a progress bar\n",
    "    iter = tqdm.tqdm(range(numReads), \"Reading\", bar_format='{l_bar}{bar}')\n",
    "\n",
    "    # iterate over the progress bar\n",
    "    for i in iter:\n",
    "        # read a random key from the database\n",
    "        getter(connection, 'key'+str(random.randint(0,numKeys)))\n",
    "    \n",
    "    # return the elapsed time\n",
    "    return(iter.format_dict[\"elapsed\"])\n",
    "\n",
    "# Print result\n",
    "def print_results(product, action, time, count):\n",
    "    \"\"\"\n",
    "    Print the results of the benchmark\n",
    "    \"\"\"\n",
    "\n",
    "    print(f\"\\n{colorama.Fore.CYAN}{product}{colorama.Style.RESET_ALL} {action}:{colorama.Fore.YELLOW}{count:,d}{colorama.Style.RESET_ALL}/{colorama.Fore.YELLOW}{time:5.2f}{colorama.Style.RESET_ALL} ⇒ {colorama.Fore.GREEN}{count/time:12,.2f}{colorama.Style.RESET_ALL} msg/sec\\n\\n\")\n"
   ]
  },
  {
   "cell_type": "markdown",
   "id": "ecf0e03a",
   "metadata": {},
   "source": [
    "## Redis"
   ]
  },
  {
   "cell_type": "code",
   "execution_count": null,
   "id": "2223e7ab",
   "metadata": {},
   "outputs": [],
   "source": [
    "# make the connection to the database\n",
    "redisConnection = redis.Redis()\n",
    "\n",
    "print_results(\"Redis\", \"Writes\", write(setter,redisConnection,numWrites), numWrites)\n",
    "print_results(\"Redis\", \"Reads \", random_read(getter,redisConnection,numWrites, numReads), numReads)\n"
   ]
  },
  {
   "cell_type": "markdown",
   "id": "2133fbd8",
   "metadata": {},
   "source": [
    "## IRIS"
   ]
  },
  {
   "cell_type": "code",
   "execution_count": null,
   "id": "19b08933",
   "metadata": {},
   "outputs": [],
   "source": [
    "# make the connection to the database\n",
    "irisConnection = iris.gref('^exampleKV')\n",
    "\n",
    "print_results(\"IRIS\", \"Writes\", write(setter,irisConnection,numWrites), numWrites)\n",
    "print_results(\"IRIS\", \"Reads \", random_read(getter,irisConnection,numWrites, numReads), numReads)"
   ]
  },
  {
   "cell_type": "code",
   "execution_count": null,
   "id": "e29b7659",
   "metadata": {},
   "outputs": [],
   "source": []
  }
 ],
 "metadata": {
  "kernelspec": {
   "display_name": "IRIS Python",
   "language": "python",
   "name": "irispython"
  },
  "language_info": {
   "codemirror_mode": {
    "name": "ipython",
    "version": 3
   },
   "file_extension": ".py",
   "mimetype": "text/x-python",
   "name": "python",
   "nbconvert_exporter": "python",
   "pygments_lexer": "ipython3",
   "version": "3.8.10"
  },
  "vscode": {
   "interpreter": {
    "hash": "6bbbe30561238fbc1fae20ef6501c66f4baa755998b361bf4335e9fe93f98c93"
   }
  }
 },
 "nbformat": 4,
 "nbformat_minor": 5
}
