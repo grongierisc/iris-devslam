{
 "cells": [
  {
   "cell_type": "markdown",
   "metadata": {},
   "source": [
    "# IRIS Multi Model Dimension"
   ]
  },
  {
   "cell_type": "markdown",
   "metadata": {},
   "source": [
    "## Import connection and utils"
   ]
  },
  {
   "cell_type": "code",
   "execution_count": 34,
   "metadata": {},
   "outputs": [],
   "source": [
    "import iris\n",
    "from grongier.pex._utils import iris_list_deserializer,iris_list_serializer"
   ]
  },
  {
   "cell_type": "markdown",
   "metadata": {},
   "source": [
    "## Drop/Create the table"
   ]
  },
  {
   "cell_type": "code",
   "execution_count": 35,
   "metadata": {},
   "outputs": [],
   "source": [
    "drop_table = \"\"\"\n",
    "DROP TABLE IF EXISTS Sample.Users\n",
    "\"\"\" \n",
    "\n",
    "rs = iris.sql.exec(drop_table)\n",
    "for r in rs:\n",
    "    print(r)"
   ]
  },
  {
   "cell_type": "code",
   "execution_count": 36,
   "metadata": {},
   "outputs": [
    {
     "data": {
      "text/plain": [
       "<iris.%SYS.Python.SQLResultSet at 0x7f947c1378d0>"
      ]
     },
     "execution_count": 36,
     "metadata": {},
     "output_type": "execute_result"
    }
   ],
   "source": [
    "create_table = \"\"\"\n",
    "CREATE TABLE Sample.Users (\n",
    "\n",
    "         Company                                  VARCHAR(50),\n",
    "         DOB                                      DATE,\n",
    "         Name                                     VARCHAR(4096),\n",
    "         Phone                                    VARCHAR(4096),\n",
    "         Title                                    VARCHAR(50)\n",
    ")\n",
    "WITH %CLASSPARAMETER DEFAULTGLOBAL = '^GL.Users',\n",
    "        %CLASSPARAMETER USEEXTENTSET = 0\n",
    "\"\"\"\n",
    "iris.sql.exec(create_table)\n"
   ]
  },
  {
   "cell_type": "markdown",
   "metadata": {},
   "source": [
    "## Insert a row"
   ]
  },
  {
   "cell_type": "code",
   "execution_count": 37,
   "metadata": {},
   "outputs": [
    {
     "data": {
      "text/plain": [
       "<iris.%SYS.Python.SQLResultSet at 0x7f947c1ae4e0>"
      ]
     },
     "execution_count": 37,
     "metadata": {},
     "output_type": "execute_result"
    }
   ],
   "source": [
    "insert = \"\"\"\n",
    "INSERT INTO Sample.Users VALUES (\n",
    "            'ABC',  \n",
    "            DATE('2018-01-01'),\n",
    "            'John Smith',\n",
    "            '555-555-5555',\n",
    "            'Manager'\n",
    ")\n",
    "\"\"\"\n",
    "\n",
    "iris.sql.exec(insert)"
   ]
  },
  {
   "cell_type": "markdown",
   "metadata": {},
   "source": [
    "# Query this row"
   ]
  },
  {
   "cell_type": "code",
   "execution_count": 38,
   "metadata": {},
   "outputs": [
    {
     "name": "stdout",
     "output_type": "stream",
     "text": [
      "['1', 'ABC', 64649, 'John Smith', '555-555-5555', 'Manager']\n"
     ]
    }
   ],
   "source": [
    "select_sql = \"\"\"\n",
    "SELECT ID,* FROM Sample.Users\n",
    "\"\"\"\n",
    "\n",
    "rs = iris.sql.exec(select_sql)\n",
    "\n",
    "for r in rs:\n",
    "    print(r)"
   ]
  },
  {
   "cell_type": "markdown",
   "metadata": {},
   "source": [
    "## Check this same row but in NoSQL"
   ]
  },
  {
   "cell_type": "code",
   "execution_count": 45,
   "metadata": {},
   "outputs": [
    {
     "name": "stdout",
     "output_type": "stream",
     "text": [
      "<isc.gref object at 0x7f947c09b4f0>\n",
      "['TOTO', 64649, 'John Smith', '555-555-5555', 'Manager']\n",
      "['TOTO', 64649, 'John Smith', '555-555-5555', 'Manager']\n"
     ]
    }
   ],
   "source": [
    "#select_no_sql data\n",
    "g = iris.gref(\"^GL.UsersD\")\n",
    "\n",
    "# print the object\n",
    "print(g)\n",
    "\n",
    "# get the frist element of the global and deserialize it\n",
    "my_python_list = iris_list_deserializer(g[1])\n",
    "print(my_python_list)\n",
    "\n",
    "# modify the list\n",
    "my_python_list[0] = 'TOTO'\n",
    "\n",
    "# print the list\n",
    "print(my_python_list)\n",
    "\n",
    "# serialize the list\n",
    "g[1] = iris_list_serializer(my_python_list)"
   ]
  },
  {
   "cell_type": "markdown",
   "metadata": {},
   "source": [
    "## Query it again"
   ]
  },
  {
   "cell_type": "code",
   "execution_count": 47,
   "metadata": {},
   "outputs": [
    {
     "name": "stdout",
     "output_type": "stream",
     "text": [
      "['TOTO', 64649, 'John Smith', '555-555-5555', 'Manager']\n"
     ]
    }
   ],
   "source": [
    "select_sql = \"\"\"\n",
    "SELECT * FROM Sample.Users\n",
    "\"\"\"\n",
    "\n",
    "rs = iris.sql.exec(select_sql)\n",
    "\n",
    "for r in rs:\n",
    "    print(r)"
   ]
  }
 ],
 "metadata": {
  "kernelspec": {
   "display_name": "Python 3.8.10 64-bit",
   "language": "python",
   "name": "python3"
  },
  "language_info": {
   "codemirror_mode": {
    "name": "ipython",
    "version": 3
   },
   "file_extension": ".py",
   "mimetype": "text/x-python",
   "name": "python",
   "nbconvert_exporter": "python",
   "pygments_lexer": "ipython3",
   "version": "3.8.10"
  },
  "orig_nbformat": 4,
  "vscode": {
   "interpreter": {
    "hash": "243695558918407d35cda78397d98a2b65172e7e725b56b6e26c6388296ed2d1"
   }
  }
 },
 "nbformat": 4,
 "nbformat_minor": 2
}
