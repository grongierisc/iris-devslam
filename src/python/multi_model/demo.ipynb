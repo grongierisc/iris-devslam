{
 "cells": [
  {
   "cell_type": "markdown",
   "metadata": {},
   "source": [
    "# IRIS Multi Model Dimension\n",
    "\n",
    "the following is a demo of the multi model dimension\n",
    "it aims to show how you can interact with the same data\n",
    "in different ways.\n",
    "\n",
    "You will be able to see how to acces to the data in SQL and\n",
    "in a pythonic way with an NoSQL approach with key-value pairs"
   ]
  },
  {
   "cell_type": "markdown",
   "metadata": {},
   "source": [
    "## Import connection and utils"
   ]
  },
  {
   "cell_type": "code",
   "execution_count": 1,
   "metadata": {},
   "outputs": [],
   "source": [
    "import iris\n",
    "from grongier.pex._utils import iris_list_deserializer,iris_list_serializer\n",
    "def run_sql(sql):\n",
    "    return iris.sql.exec(sql)"
   ]
  },
  {
   "cell_type": "markdown",
   "metadata": {},
   "source": [
    "## Drop the table if it exists"
   ]
  },
  {
   "cell_type": "code",
   "execution_count": 2,
   "metadata": {},
   "outputs": [],
   "source": [
    "run_sql(\"\"\"\n",
    "DROP TABLE IF EXISTS Sample.Users\n",
    "\"\"\" )"
   ]
  },
  {
   "cell_type": "markdown",
   "metadata": {},
   "source": [
    "## Create the table"
   ]
  },
  {
   "cell_type": "code",
   "execution_count": 3,
   "metadata": {},
   "outputs": [
    {
     "data": {
      "text/plain": [
       "<iris.%SYS.Python.SQLResultSet at 0x7faba86b1dd0>"
      ]
     },
     "execution_count": 3,
     "metadata": {},
     "output_type": "execute_result"
    }
   ],
   "source": [
    "run_sql(\"\"\"\n",
    "CREATE TABLE Sample.Users (\n",
    "\n",
    "         Company                                  VARCHAR(50),\n",
    "         DOB                                      DATE,\n",
    "         Name                                     VARCHAR(4096),\n",
    "         Phone                                    VARCHAR(4096),\n",
    "         Title                                    VARCHAR(50)\n",
    ")\n",
    "WITH %CLASSPARAMETER DEFAULTGLOBAL = '^GL.Users',\n",
    "        %CLASSPARAMETER USEEXTENTSET = 0\n",
    "\"\"\")\n"
   ]
  },
  {
   "cell_type": "markdown",
   "metadata": {},
   "source": [
    "Note that the table reference a global called GL.Users\n",
    "\n",
    "This global is a key-value pair where the key is the id of the record\n",
    "and the value is the record itself serialized with iris list"
   ]
  },
  {
   "cell_type": "markdown",
   "metadata": {},
   "source": [
    "## Insert some data"
   ]
  },
  {
   "cell_type": "code",
   "execution_count": 4,
   "metadata": {},
   "outputs": [
    {
     "data": {
      "text/plain": [
       "<iris.%SYS.Python.SQLResultSet at 0x7faba86b1d10>"
      ]
     },
     "execution_count": 4,
     "metadata": {},
     "output_type": "execute_result"
    }
   ],
   "source": [
    "run_sql(\"\"\"INSERT INTO Sample.Users VALUES (\n",
    "            'ABC',  \n",
    "            DATE('2018-01-01'),\n",
    "            'John Smith',\n",
    "            '555-555-5555',\n",
    "            'Manager'\n",
    ")\n",
    "\"\"\")"
   ]
  },
  {
   "cell_type": "markdown",
   "metadata": {},
   "source": [
    "## Query the data in SQL"
   ]
  },
  {
   "cell_type": "code",
   "execution_count": 5,
   "metadata": {},
   "outputs": [
    {
     "name": "stdout",
     "output_type": "stream",
     "text": [
      "['1', 'ABC', 64649, 'John Smith', '555-555-5555', 'Manager']\n"
     ]
    }
   ],
   "source": [
    "rs = run_sql(\"\"\"\n",
    "SELECT ID,* FROM Sample.Users\n",
    "\"\"\")\n",
    "\n",
    "for r in rs:\n",
    "    print(r)"
   ]
  },
  {
   "cell_type": "markdown",
   "metadata": {},
   "source": [
    "## Query the data in NoSQL\n",
    "\n",
    "### First we need to get the global"
   ]
  },
  {
   "cell_type": "code",
   "execution_count": 6,
   "metadata": {},
   "outputs": [
    {
     "name": "stdout",
     "output_type": "stream",
     "text": [
      "<isc.gref object at 0x7faba86c6b30>\n",
      "['ABC', 64649, 'John Smith', '555-555-5555', 'Manager']\n",
      "['TOTO', 64649, 'John Smith', '555-555-5555', 'Manager']\n"
     ]
    }
   ],
   "source": [
    "# First we need to get the global\n",
    "g = iris.gref(\"^GL.UsersD\")\n",
    "\n",
    "# Then we can get the data\n",
    "for k,v in g.orderiter():\n",
    "    print(k,iris_list_deserializer(v))\n",
    "\n",
    "# Update the data in NoSQL\n",
    "first_line = iris_list_deserializer(g[1])\n",
    "\n",
    "# We can update the data\n",
    "first_line[2] = 'John Doe'\n",
    "\n",
    "# And save it\n",
    "g[1] = iris_list_serializer(first_line)"
   ]
  },
  {
   "cell_type": "markdown",
   "metadata": {},
   "source": [
    "## Query it again in SQL"
   ]
  },
  {
   "cell_type": "code",
   "execution_count": 7,
   "metadata": {},
   "outputs": [
    {
     "name": "stdout",
     "output_type": "stream",
     "text": [
      "['TOTO', 64649, 'John Smith', '555-555-5555', 'Manager']\n"
     ]
    }
   ],
   "source": [
    "rs = run_sql(\"\"\"\n",
    "SELECT ID,* FROM Sample.Users\n",
    "\"\"\")\n",
    "for r in rs:\n",
    "    print(r)"
   ]
  },
  {
   "cell_type": "markdown",
   "metadata": {},
   "source": [
    "## Now let's play only with the NoSQL approach"
   ]
  },
  {
   "cell_type": "code",
   "execution_count": null,
   "metadata": {},
   "outputs": [],
   "source": [
    "# Create a new global\n",
    "g = iris.gref(\"^MyGlobal\")\n",
    "\n",
    "# Insert some data\n",
    "g[1] = \"my first line\"\n",
    "g[2] = \"my second line\"\n",
    "g[1,\"a\"] = \"my first line with a key\"\n",
    "g[1,\"b\"] = \"my first line with a key\"\n",
    "g[2,\"a\"] = \"my second line with a key\"\n",
    "g[2,\"b\"] = \"my second line with a key\"\n",
    "\n",
    "# Query the data\n",
    "\n",
    "print(\"query all the data\")\n",
    "for (name, id) in g.query():\n",
    "    print(f\"{name} -> {id}\")"
   ]
  }
 ],
 "metadata": {
  "kernelspec": {
   "display_name": "IRIS Python",
   "language": "python",
   "name": "irispython"
  },
  "language_info": {
   "codemirror_mode": {
    "name": "ipython",
    "version": 3
   },
   "file_extension": ".py",
   "mimetype": "text/x-python",
   "name": "python",
   "nbconvert_exporter": "python",
   "pygments_lexer": "ipython3",
   "version": "3.10.6"
  },
  "vscode": {
   "interpreter": {
    "hash": "243695558918407d35cda78397d98a2b65172e7e725b56b6e26c6388296ed2d1"
   }
  }
 },
 "nbformat": 4,
 "nbformat_minor": 2
}
